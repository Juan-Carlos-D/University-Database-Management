{
 "cells": [
  {
   "cell_type": "markdown",
   "metadata": {},
   "source": [
    "<h1 align=\"center\"><b>Comprehensive Academic Program Monitoring & Evaluation System</b></h1>\n",
    "<p align=\"center\">By Juan Carlos Dominguez</p>"
   ]
  },
  {
   "cell_type": "markdown",
   "metadata": {},
   "source": [
    "### Program Goals and Purpose  \n",
    "The primary goal of our project was to design and develop a comprehensive system to evaluate degree programs within a university department. This system aimed to facilitate the collection, storage, and analysis of critical data to support ongoing program reviews. The solution needed to handle relational data, provide user-friendly interfaces, and accommodate future extensions such as new degree levels and evaluation methods.\n",
    "\n",
    "### Team Collaboration and Development Approach  \n",
    "This project was a collaborative effort where our team worked together on both the backend and frontend components. By leveraging our collective expertise, we ensured a seamless integration between the two layers of the application. The backend was developed using Flask and Python, which allowed efficient communication with the frontend, implemented using HTML and JavaScript.  \n",
    "\n",
    "### Database Design and Implementation  \n",
    "We designed and implemented the database using SQL to ensure a robust and scalable structure for managing relational data. The database was engineered to store information on degrees, courses, instructors, sections, goals, and evaluations. Relationships between these entities were carefully constructed to reflect the program's requirements, such as associating courses with multiple degrees and tracking semester-specific data for course sections.\n",
    "\n",
    "### Key Features and Functionality  \n",
    "Our system successfully supported the following core features:  \n",
    "1. **Data Entry:**  \n",
    "   - Input of degrees, courses, instructors, sections, and goals.  \n",
    "   - Association of courses with program goals.  \n",
    "   - Entry of semester-specific course and section data.  \n",
    "\n",
    "2. **Evaluation Management:**  \n",
    "   - Instructors could input evaluation data for each goal associated with their courses.  \n",
    "   - Support for multi-degree course evaluations by duplicating data entry for multiple programs.  \n",
    "   - Optional inclusion of improvement suggestions for subsequent semesters.  \n",
    "\n",
    "3. **Querying Capabilities:**  \n",
    "   - Retrieval of degree-specific information, such as associated courses, sections, and goals.  \n",
    "   - Chronological listing of sections within a given time range.  \n",
    "   - Status tracking for evaluation completion and percentage-based performance analysis.\n",
    "\n",
    "### Achievements and Impact  \n",
    "Our team successfully developed a scalable and intuitive system that met all the project requirements outlined in the program description. The database and application design ensured extensibility, allowing the system to adapt to future needs. By integrating powerful querying capabilities, we empowered users to gain meaningful insights into degree evaluations and performance trends. This project demonstrated our ability to integrate backend, frontend, and database components into a cohesive solution, addressing the department's current and future program evaluation needs.\n"
   ]
  },
  {
   "cell_type": "markdown",
   "metadata": {},
   "source": []
  }
 ],
 "metadata": {
  "kernelspec": {
   "display_name": "Python 3",
   "language": "python",
   "name": "python3"
  },
  "language_info": {
   "name": "python",
   "version": "3.12.6"
  }
 },
 "nbformat": 4,
 "nbformat_minor": 2
}
